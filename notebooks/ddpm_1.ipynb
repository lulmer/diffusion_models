{
 "cells": [
  {
   "attachments": {},
   "cell_type": "markdown",
   "metadata": {},
   "source": [
    "# Diffusion models from scratch\n",
    "Les diffusion models sont une nouvelle classe de modèles génératifs, dans ce notebook nous allons voir comment les implémenter modules par modules et les utiliser. "
   ]
  },
  {
   "cell_type": "code",
   "execution_count": null,
   "metadata": {},
   "outputs": [],
   "source": [
    "import sys \n",
    "sys.path.insert(0,\"..\")\n",
    "import torch    \n"
   ]
  },
  {
   "attachments": {},
   "cell_type": "markdown",
   "metadata": {},
   "source": [
    "EForward diffusion process\n"
   ]
  }
 ],
 "metadata": {
  "kernelspec": {
   "display_name": "deep_img",
   "language": "python",
   "name": "python3"
  },
  "language_info": {
   "name": "python",
   "version": "3.10.6 | packaged by conda-forge | (main, Aug 22 2022, 20:35:26) [GCC 10.4.0]"
  },
  "orig_nbformat": 4,
  "vscode": {
   "interpreter": {
    "hash": "3be64aab24c11150b85ddb71ab1f93565e206bfdd55d26645d66bd040302d78e"
   }
  }
 },
 "nbformat": 4,
 "nbformat_minor": 2
}
